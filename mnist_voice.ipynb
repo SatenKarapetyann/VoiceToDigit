{
 "cells": [
  {
   "cell_type": "code",
   "execution_count": 2,
   "id": "4a9a85d8-2550-43c1-9e76-e59a764dd396",
   "metadata": {},
   "outputs": [
    {
     "name": "stdout",
     "output_type": "stream",
     "text": [
      "Collecting librosa\n",
      "  Using cached librosa-0.11.0-py3-none-any.whl.metadata (8.7 kB)\n",
      "Collecting audioread>=2.1.9 (from librosa)\n",
      "  Using cached audioread-3.0.1-py3-none-any.whl.metadata (8.4 kB)\n",
      "Collecting numba>=0.51.0 (from librosa)\n",
      "  Using cached numba-0.61.2-cp311-cp311-win_amd64.whl.metadata (2.9 kB)\n",
      "Requirement already satisfied: numpy>=1.22.3 in c:\\users\\asus\\desktop\\ml_14-45\\venv\\lib\\site-packages (from librosa) (2.1.3)\n",
      "Requirement already satisfied: scipy>=1.6.0 in c:\\users\\asus\\desktop\\ml_14-45\\venv\\lib\\site-packages (from librosa) (1.15.2)\n",
      "Requirement already satisfied: scikit-learn>=1.1.0 in c:\\users\\asus\\desktop\\ml_14-45\\venv\\lib\\site-packages (from librosa) (1.6.1)\n",
      "Requirement already satisfied: joblib>=1.0 in c:\\users\\asus\\desktop\\ml_14-45\\venv\\lib\\site-packages (from librosa) (1.5.0)\n",
      "Requirement already satisfied: decorator>=4.3.0 in c:\\users\\asus\\desktop\\ml_14-45\\venv\\lib\\site-packages (from librosa) (5.2.1)\n",
      "Collecting soundfile>=0.12.1 (from librosa)\n",
      "  Using cached soundfile-0.13.1-py2.py3-none-win_amd64.whl.metadata (16 kB)\n",
      "Collecting pooch>=1.1 (from librosa)\n",
      "  Using cached pooch-1.8.2-py3-none-any.whl.metadata (10 kB)\n",
      "Collecting soxr>=0.3.2 (from librosa)\n",
      "  Using cached soxr-0.5.0.post1-cp311-cp311-win_amd64.whl.metadata (5.6 kB)\n",
      "Requirement already satisfied: typing_extensions>=4.1.1 in c:\\users\\asus\\desktop\\ml_14-45\\venv\\lib\\site-packages (from librosa) (4.13.2)\n",
      "Collecting lazy_loader>=0.1 (from librosa)\n",
      "  Using cached lazy_loader-0.4-py3-none-any.whl.metadata (7.6 kB)\n",
      "Collecting msgpack>=1.0 (from librosa)\n",
      "  Using cached msgpack-1.1.1-cp311-cp311-win_amd64.whl.metadata (8.6 kB)\n",
      "Requirement already satisfied: packaging in c:\\users\\asus\\desktop\\ml_14-45\\venv\\lib\\site-packages (from lazy_loader>=0.1->librosa) (25.0)\n",
      "Collecting llvmlite<0.45,>=0.44.0dev0 (from numba>=0.51.0->librosa)\n",
      "  Using cached llvmlite-0.44.0-cp311-cp311-win_amd64.whl.metadata (5.0 kB)\n",
      "Requirement already satisfied: platformdirs>=2.5.0 in c:\\users\\asus\\desktop\\ml_14-45\\venv\\lib\\site-packages (from pooch>=1.1->librosa) (4.3.7)\n",
      "Requirement already satisfied: requests>=2.19.0 in c:\\users\\asus\\desktop\\ml_14-45\\venv\\lib\\site-packages (from pooch>=1.1->librosa) (2.32.3)\n",
      "Requirement already satisfied: charset-normalizer<4,>=2 in c:\\users\\asus\\desktop\\ml_14-45\\venv\\lib\\site-packages (from requests>=2.19.0->pooch>=1.1->librosa) (3.4.2)\n",
      "Requirement already satisfied: idna<4,>=2.5 in c:\\users\\asus\\desktop\\ml_14-45\\venv\\lib\\site-packages (from requests>=2.19.0->pooch>=1.1->librosa) (3.10)\n",
      "Requirement already satisfied: urllib3<3,>=1.21.1 in c:\\users\\asus\\desktop\\ml_14-45\\venv\\lib\\site-packages (from requests>=2.19.0->pooch>=1.1->librosa) (2.4.0)\n",
      "Requirement already satisfied: certifi>=2017.4.17 in c:\\users\\asus\\desktop\\ml_14-45\\venv\\lib\\site-packages (from requests>=2.19.0->pooch>=1.1->librosa) (2025.4.26)\n",
      "Requirement already satisfied: threadpoolctl>=3.1.0 in c:\\users\\asus\\desktop\\ml_14-45\\venv\\lib\\site-packages (from scikit-learn>=1.1.0->librosa) (3.6.0)\n",
      "Requirement already satisfied: cffi>=1.0 in c:\\users\\asus\\desktop\\ml_14-45\\venv\\lib\\site-packages (from soundfile>=0.12.1->librosa) (1.17.1)\n",
      "Requirement already satisfied: pycparser in c:\\users\\asus\\desktop\\ml_14-45\\venv\\lib\\site-packages (from cffi>=1.0->soundfile>=0.12.1->librosa) (2.22)\n",
      "Using cached librosa-0.11.0-py3-none-any.whl (260 kB)\n",
      "Using cached audioread-3.0.1-py3-none-any.whl (23 kB)\n",
      "Using cached lazy_loader-0.4-py3-none-any.whl (12 kB)\n",
      "Using cached msgpack-1.1.1-cp311-cp311-win_amd64.whl (72 kB)\n",
      "Using cached numba-0.61.2-cp311-cp311-win_amd64.whl (2.8 MB)\n",
      "Using cached llvmlite-0.44.0-cp311-cp311-win_amd64.whl (30.3 MB)\n",
      "Using cached pooch-1.8.2-py3-none-any.whl (64 kB)\n",
      "Using cached soundfile-0.13.1-py2.py3-none-win_amd64.whl (1.0 MB)\n",
      "Using cached soxr-0.5.0.post1-cp311-cp311-win_amd64.whl (166 kB)\n",
      "Installing collected packages: soxr, msgpack, llvmlite, lazy_loader, audioread, soundfile, pooch, numba, librosa\n",
      "\n",
      "   -------- ------------------------------- 2/9 [llvmlite]\n",
      "   -------- ------------------------------- 2/9 [llvmlite]\n",
      "   -------- ------------------------------- 2/9 [llvmlite]\n",
      "   -------- ------------------------------- 2/9 [llvmlite]\n",
      "   -------- ------------------------------- 2/9 [llvmlite]\n",
      "   -------- ------------------------------- 2/9 [llvmlite]\n",
      "   ----------------- ---------------------- 4/9 [audioread]\n",
      "   -------------------------- ------------- 6/9 [pooch]\n",
      "   ------------------------------- -------- 7/9 [numba]\n",
      "   ------------------------------- -------- 7/9 [numba]\n",
      "   ------------------------------- -------- 7/9 [numba]\n",
      "   ------------------------------- -------- 7/9 [numba]\n",
      "   ------------------------------- -------- 7/9 [numba]\n",
      "   ------------------------------- -------- 7/9 [numba]\n",
      "   ------------------------------- -------- 7/9 [numba]\n",
      "   ------------------------------- -------- 7/9 [numba]\n",
      "   ------------------------------- -------- 7/9 [numba]\n",
      "   ------------------------------- -------- 7/9 [numba]\n",
      "   ------------------------------- -------- 7/9 [numba]\n",
      "   ------------------------------- -------- 7/9 [numba]\n",
      "   ------------------------------- -------- 7/9 [numba]\n",
      "   ------------------------------- -------- 7/9 [numba]\n",
      "   ------------------------------- -------- 7/9 [numba]\n",
      "   ------------------------------- -------- 7/9 [numba]\n",
      "   ------------------------------- -------- 7/9 [numba]\n",
      "   ------------------------------- -------- 7/9 [numba]\n",
      "   ------------------------------- -------- 7/9 [numba]\n",
      "   ------------------------------- -------- 7/9 [numba]\n",
      "   ------------------------------- -------- 7/9 [numba]\n",
      "   ------------------------------- -------- 7/9 [numba]\n",
      "   ------------------------------- -------- 7/9 [numba]\n",
      "   ------------------------------- -------- 7/9 [numba]\n",
      "   ------------------------------- -------- 7/9 [numba]\n",
      "   ------------------------------- -------- 7/9 [numba]\n",
      "   ------------------------------- -------- 7/9 [numba]\n",
      "   ------------------------------- -------- 7/9 [numba]\n",
      "   ------------------------------- -------- 7/9 [numba]\n",
      "   ------------------------------- -------- 7/9 [numba]\n",
      "   ------------------------------- -------- 7/9 [numba]\n",
      "   ------------------------------- -------- 7/9 [numba]\n",
      "   ------------------------------- -------- 7/9 [numba]\n",
      "   ------------------------------- -------- 7/9 [numba]\n",
      "   ------------------------------- -------- 7/9 [numba]\n",
      "   ------------------------------- -------- 7/9 [numba]\n",
      "   ------------------------------- -------- 7/9 [numba]\n",
      "   ------------------------------- -------- 7/9 [numba]\n",
      "   ------------------------------- -------- 7/9 [numba]\n",
      "   ------------------------------- -------- 7/9 [numba]\n",
      "   ------------------------------- -------- 7/9 [numba]\n",
      "   ------------------------------- -------- 7/9 [numba]\n",
      "   ------------------------------- -------- 7/9 [numba]\n",
      "   ------------------------------- -------- 7/9 [numba]\n",
      "   ------------------------------- -------- 7/9 [numba]\n",
      "   ------------------------------- -------- 7/9 [numba]\n",
      "   ------------------------------- -------- 7/9 [numba]\n",
      "   ------------------------------- -------- 7/9 [numba]\n",
      "   ------------------------------- -------- 7/9 [numba]\n",
      "   ------------------------------- -------- 7/9 [numba]\n",
      "   ------------------------------- -------- 7/9 [numba]\n",
      "   ------------------------------- -------- 7/9 [numba]\n",
      "   ------------------------------- -------- 7/9 [numba]\n",
      "   ------------------------------- -------- 7/9 [numba]\n",
      "   ------------------------------- -------- 7/9 [numba]\n",
      "   ------------------------------- -------- 7/9 [numba]\n",
      "   ------------------------------- -------- 7/9 [numba]\n",
      "   ------------------------------- -------- 7/9 [numba]\n",
      "   ------------------------------- -------- 7/9 [numba]\n",
      "   ----------------------------------- ---- 8/9 [librosa]\n",
      "   ----------------------------------- ---- 8/9 [librosa]\n",
      "   ----------------------------------- ---- 8/9 [librosa]\n",
      "   ---------------------------------------- 9/9 [librosa]\n",
      "\n",
      "Successfully installed audioread-3.0.1 lazy_loader-0.4 librosa-0.11.0 llvmlite-0.44.0 msgpack-1.1.1 numba-0.61.2 pooch-1.8.2 soundfile-0.13.1 soxr-0.5.0.post1\n"
     ]
    },
    {
     "name": "stderr",
     "output_type": "stream",
     "text": [
      "\n",
      "[notice] A new release of pip is available: 25.1.1 -> 25.2\n",
      "[notice] To update, run: python.exe -m pip install --upgrade pip\n"
     ]
    }
   ],
   "source": [
    "!pip install librosa"
   ]
  },
  {
   "cell_type": "code",
   "execution_count": 3,
   "id": "3314f17d-6f4f-45e9-a4f1-181bd24e9d58",
   "metadata": {},
   "outputs": [],
   "source": [
    "import numpy as np\n",
    "import pandas as pd\n",
    "import seaborn as sns\n",
    "import matplotlib.pyplot as plt\n",
    "import matplotlib.image as mpimg\n",
    "import os\n",
    "import librosa\n",
    "import librosa.display"
   ]
  },
  {
   "cell_type": "code",
   "execution_count": 13,
   "id": "e47665aa-c7da-4960-81f2-6db3036a1501",
   "metadata": {},
   "outputs": [
    {
     "data": {
      "image/png": "[encoded data removed]",
      "text/plain": [
       "<Figure size 1000x400 with 2 Axes>"
      ]
     },
     "metadata": {},
     "output_type": "display_data"
    }
   ],
   "source": [
    "def audio_to_mel_spectrogram(file_path, sr=16000, n_mels=128, max_len=10):\n",
    "    y, _ = librosa.load(file_path, sr=sr)\n",
    "    mel_spec = librosa.feature.melspectrogram(y=y, sr=sr, n_mels=n_mels)\n",
    "    log_mel_spec = librosa.power_to_db(mel_spec, ref=np.max)   \n",
    "    log_mel_spec = log_mel_spec.T\n",
    "    if log_mel_spec.shape[0] < max_len:\n",
    "        pad_width = max_len - log_mel_spec.shape[0]\n",
    "        log_mel_spec = np.pad(log_mel_spec, ((0, pad_width), (0, 0)))\n",
    "    else:\n",
    "        log_mel_spec = log_mel_spec[:max_len, :]\n",
    "    return log_mel_spec  \n",
    "spec = audio_to_mel_spectrogram(\"recordings/1_jackson_23.wav\")\n",
    "\n",
    "plt.figure(figsize=(10, 4))\n",
    "librosa.display.specshow(spec.T, sr=16000, hop_length=512, x_axis='time', y_axis='mel')\n",
    "plt.title(\"Mel Spectrogram\")\n",
    "plt.colorbar(format='%+2.0f dB')\n",
    "plt.tight_layout()\n",
    "plt.show()"
   ]
  },
  {
   "cell_type": "code",
   "execution_count": null,
   "id": "3d4592e3-007c-4a8f-abfb-e00d83a548b9",
   "metadata": {},
   "outputs": [],
   "source": [
    "spec.T.shape"
   ]
  },
  {
   "cell_type": "code",
   "execution_count": 5,
   "id": "fc5a0d32-f10b-4b2b-bd1b-11ec87466274",
   "metadata": {},
   "outputs": [
    {
     "ename": "IndentationError",
     "evalue": "expected an indented block after 'if' statement on line 38 (3431986362.py, line 40)",
     "output_type": "error",
     "traceback": [
      "  \u001b[36mCell\u001b[39m\u001b[36m \u001b[39m\u001b[32mIn[5]\u001b[39m\u001b[32m, line 40\u001b[39m\n\u001b[31m    \u001b[39m\u001b[31mtry:\u001b[39m\n    ^\n\u001b[31mIndentationError\u001b[39m\u001b[31m:\u001b[39m expected an indented block after 'if' statement on line 38\n"
     ]
    }
   ],
   "source": [
    "# def audio_to_mel_spectrogram(file_path, sr=16000, n_mels=128, max_len=10):\n",
    "#      y, _ = librosa.load(file_path, sr=sr)\n",
    "#      mel_spec = librosa.feature.melspectrogram(y=y, sr=sr, n_mels=n_mels)\n",
    "#      log_mel_spec = librosa.power_to_db(mel_spec, ref=np.max)  # (n_mels, time)\n",
    "#      log_mel_spec = log_mel_spec.T\n",
    "#      if log_mel_spec.shape[0] < max_len:\n",
    "#         pad_width = max_len - log_mel_spec.shape[0]\n",
    "#         log_mel_spec = np.pad(log_mel_spec, ((0, pad_width), (0, 0)))\n",
    "#     else:\n",
    "#         log_mel_spec = log_mel_spec[:max_len, :]\n",
    "#     return log_mel_spec   \n",
    "# X = []\n",
    "# y = []\n",
    "# for i in os.listdir('./recordings'):\n",
    "#     X.append(audio_to_mel_spectrogram(f'recordings/{i}'))\n",
    "#     y.append(int(i[0]))\n",
    "# X = np.array(X)\n",
    "# y = np.array(y)\n",
    "def audio_to_mel_spectrogram(file_path, sr=16000, n_mels=128, max_len=10):\n",
    "    y, _ = librosa.load(file_path, sr=sr)\n",
    "    mel_spec = librosa.feature.melspectrogram(y=y, sr=sr, n_mels=n_mels)\n",
    "    log_mel_spec = librosa.power_to_db(mel_spec, ref=np.max)  # (n_mels, time)\n",
    "    log_mel_spec = log_mel_spec.T\n",
    "    \n",
    "    if log_mel_spec.shape[0] < max_len:\n",
    "        pad_width = max_len - log_mel_spec.shape[0]\n",
    "        log_mel_spec = np.pad(log_mel_spec, ((0, pad_width), (0, 0)))\n",
    "    else:\n",
    "        log_mel_spec = log_mel_spec[:max_len, :]\n",
    "    \n",
    "    return log_mel_spec\n",
    "\n",
    "X = []\n",
    "y = []\n",
    "for filename in os.listdir('./recordings'):\n",
    "    filepath = os.path.join('./recordings', filename)\n",
    "    \n",
    "    if not os.path.isfile(filepath) or not filename.endswith('.wav'):  \n",
    "    \n",
    "    try:\n",
    "        X.append(audio_to_mel_spectrogram(filepath))\n",
    "        y.append(int(filename[0]))  # Assuming label is the first character (e.g., \"0_abc.wav\")\n",
    "    except Exception as e:\n",
    "        print(f\"Skipping {filename}: {str(e)}\")\n",
    "\n",
    "X = np.array(X)\n",
    "y = np.array(y)"
   ]
  },
  {
   "cell_type": "code",
   "execution_count": 6,
   "id": "6043ede5-4f92-48d3-ac04-f1992e4bb50d",
   "metadata": {},
   "outputs": [
    {
     "ename": "NameError",
     "evalue": "name 'X' is not defined",
     "output_type": "error",
     "traceback": [
      "\u001b[31m---------------------------------------------------------------------------\u001b[39m",
      "\u001b[31mNameError\u001b[39m                                 Traceback (most recent call last)",
      "\u001b[36mCell\u001b[39m\u001b[36m \u001b[39m\u001b[32mIn[6]\u001b[39m\u001b[32m, line 1\u001b[39m\n\u001b[32m----> \u001b[39m\u001b[32m1\u001b[39m \u001b[43mX\u001b[49m\n",
      "\u001b[31mNameError\u001b[39m: name 'X' is not defined"
     ]
    }
   ],
   "source": [
    "X"
   ]
  },
  {
   "cell_type": "code",
   "execution_count": 7,
   "id": "068bd6e3-e9d0-4496-a46c-aa43804033cd",
   "metadata": {},
   "outputs": [
    {
     "ename": "NameError",
     "evalue": "name 'y' is not defined",
     "output_type": "error",
     "traceback": [
      "\u001b[31m---------------------------------------------------------------------------\u001b[39m",
      "\u001b[31mNameError\u001b[39m                                 Traceback (most recent call last)",
      "\u001b[36mCell\u001b[39m\u001b[36m \u001b[39m\u001b[32mIn[7]\u001b[39m\u001b[32m, line 1\u001b[39m\n\u001b[32m----> \u001b[39m\u001b[32m1\u001b[39m \u001b[43my\u001b[49m\n",
      "\u001b[31mNameError\u001b[39m: name 'y' is not defined"
     ]
    }
   ],
   "source": [
    "y"
   ]
  },
  {
   "cell_type": "code",
   "execution_count": 8,
   "id": "86c8d9f8-0bec-4a10-99af-6c97118b9c3f",
   "metadata": {},
   "outputs": [
    {
     "ename": "NameError",
     "evalue": "name 'X' is not defined",
     "output_type": "error",
     "traceback": [
      "\u001b[31m---------------------------------------------------------------------------\u001b[39m",
      "\u001b[31mNameError\u001b[39m                                 Traceback (most recent call last)",
      "\u001b[36mCell\u001b[39m\u001b[36m \u001b[39m\u001b[32mIn[8]\u001b[39m\u001b[32m, line 1\u001b[39m\n\u001b[32m----> \u001b[39m\u001b[32m1\u001b[39m \u001b[43mX\u001b[49m.shape\n",
      "\u001b[31mNameError\u001b[39m: name 'X' is not defined"
     ]
    }
   ],
   "source": [
    "X.shape"
   ]
  },
  {
   "cell_type": "code",
   "execution_count": 9,
   "id": "5cc144a2-c934-48ff-ae8b-f1bfa5e7007b",
   "metadata": {},
   "outputs": [
    {
     "ename": "NameError",
     "evalue": "name 'y' is not defined",
     "output_type": "error",
     "traceback": [
      "\u001b[31m---------------------------------------------------------------------------\u001b[39m",
      "\u001b[31mNameError\u001b[39m                                 Traceback (most recent call last)",
      "\u001b[36mCell\u001b[39m\u001b[36m \u001b[39m\u001b[32mIn[9]\u001b[39m\u001b[32m, line 1\u001b[39m\n\u001b[32m----> \u001b[39m\u001b[32m1\u001b[39m \u001b[43my\u001b[49m.shape\n",
      "\u001b[31mNameError\u001b[39m: name 'y' is not defined"
     ]
    }
   ],
   "source": [
    "y.shape"
   ]
  },
  {
   "cell_type": "code",
   "execution_count": 10,
   "id": "b90603d8-c6b9-43fd-b3bd-41d0bb496989",
   "metadata": {},
   "outputs": [],
   "source": [
    "from keras.utils import to_categorical"
   ]
  },
  {
   "cell_type": "code",
   "execution_count": 11,
   "id": "0e3f511f-8149-42fb-a32e-55224b39e18c",
   "metadata": {},
   "outputs": [
    {
     "ename": "NameError",
     "evalue": "name 'y' is not defined",
     "output_type": "error",
     "traceback": [
      "\u001b[31m---------------------------------------------------------------------------\u001b[39m",
      "\u001b[31mNameError\u001b[39m                                 Traceback (most recent call last)",
      "\u001b[36mCell\u001b[39m\u001b[36m \u001b[39m\u001b[32mIn[11]\u001b[39m\u001b[32m, line 1\u001b[39m\n\u001b[32m----> \u001b[39m\u001b[32m1\u001b[39m y = to_categorical(\u001b[43my\u001b[49m, num_classes=\u001b[32m10\u001b[39m)\n",
      "\u001b[31mNameError\u001b[39m: name 'y' is not defined"
     ]
    }
   ],
   "source": [
    "y = to_categorical(y, num_classes=10)"
   ]
  },
  {
   "cell_type": "code",
   "execution_count": null,
   "id": "3c5163a0-8b7c-4178-a44b-c8bb188408dc",
   "metadata": {},
   "outputs": [],
   "source": [
    "y"
   ]
  },
  {
   "cell_type": "code",
   "execution_count": null,
   "id": "ea3ea60c-d367-42c6-9e0a-dccf55152b75",
   "metadata": {},
   "outputs": [],
   "source": [
    "X = X.reshape(3000, 10, 128, 1)"
   ]
  },
  {
   "cell_type": "code",
   "execution_count": 21,
   "id": "8f85a9c3-7527-457f-88fe-e77b1d307e82",
   "metadata": {},
   "outputs": [],
   "source": [
    "from sklearn.model_selection import train_test_split"
   ]
  },
  {
   "cell_type": "code",
   "execution_count": 22,
   "id": "13880741-cba7-491b-85f1-54751400fdb0",
   "metadata": {},
   "outputs": [],
   "source": [
    "X_train, X_test, y_train, y_test = train_test_split(X, y, test_size=0.2, random_state=42)"
   ]
  },
  {
   "cell_type": "code",
   "execution_count": 23,
   "id": "fd38d25b-a762-4acb-ab58-7876d4206f55",
   "metadata": {},
   "outputs": [
    {
     "data": {
      "text/plain": [
       "(2400, 10, 128, 1)"
      ]
     },
     "execution_count": 23,
     "metadata": {},
     "output_type": "execute_result"
    }
   ],
   "source": [
    "X_train.shape"
   ]
  },
  {
   "cell_type": "code",
   "execution_count": 24,
   "id": "8118e258-bc02-4110-a538-05a1e74d32b1",
   "metadata": {},
   "outputs": [],
   "source": [
    "from keras import Sequential\n",
    "from keras.layers import Conv2D, MaxPooling2D, Flatten, Dense\n",
    "from keras.optimizers import Adam"
   ]
  },
  {
   "cell_type": "code",
   "execution_count": 25,
   "id": "9b1324ce-7518-4d1a-9791-78e65f0802af",
   "metadata": {},
   "outputs": [
    {
     "name": "stderr",
     "output_type": "stream",
     "text": [
      "/Users/satenkarapetyan/Desktop/ML/venv/lib/python3.12/site-packages/keras/src/layers/convolutional/base_conv.py:113: UserWarning: Do not pass an `input_shape`/`input_dim` argument to a layer. When using Sequential models, prefer using an `Input(shape)` object as the first layer in the model instead.\n",
      "  super().__init__(activity_regularizer=activity_regularizer, **kwargs)\n"
     ]
    }
   ],
   "source": [
    "model = Sequential()\n",
    "\n",
    "model.add(Conv2D(filters=32, kernel_size=(3, 3), activation='relu', padding='same', input_shape=(10, 128, 1)))\n",
    "model.add(MaxPooling2D(pool_size=(2, 2)))\n",
    "model.add(Conv2D(filters=32, kernel_size=(3, 3), activation='relu', padding='same'))\n",
    "model.add(MaxPooling2D(pool_size=(2, 2)))\n",
    "model.add(Flatten())\n",
    "model.add(Dense(units=64, activation='relu'))\n",
    "model.add(Dense(units=32, activation='relu'))\n",
    "model.add(Dense(units=10, activation='softmax'))"
   ]
  },
  {
   "cell_type": "code",
   "execution_count": 26,
   "id": "96e538c3-335c-439c-a71e-391a466eb29c",
   "metadata": {},
   "outputs": [],
   "source": [
    "model.compile(optimizer=Adam(learning_rate=0.0001), loss='categorical_crossentropy', metrics=['accuracy'])"
   ]
  },
  {
   "cell_type": "code",
   "execution_count": 27,
   "id": "f4c68385-1b07-4105-9ff3-0c3293b47624",
   "metadata": {},
   "outputs": [
    {
     "name": "stdout",
     "output_type": "stream",
     "text": [
      "Epoch 1/50\n",
      "\u001b[1m75/75\u001b[0m \u001b[32m━━━━━━━━━━━━━━━━━━━━\u001b[0m\u001b[37m\u001b[0m \u001b[1m1s\u001b[0m 8ms/step - accuracy: 0.1374 - loss: 4.6633 - val_accuracy: 0.2417 - val_loss: 2.0900\n",
      "Epoch 2/50\n",
      "\u001b[1m75/75\u001b[0m \u001b[32m━━━━━━━━━━━━━━━━━━━━\u001b[0m\u001b[37m\u001b[0m \u001b[1m1s\u001b[0m 8ms/step - accuracy: 0.2471 - loss: 2.0466 - val_accuracy: 0.3167 - val_loss: 1.9202\n",
      "Epoch 3/50\n",
      "\u001b[1m75/75\u001b[0m \u001b[32m━━━━━━━━━━━━━━━━━━━━\u001b[0m\u001b[37m\u001b[0m \u001b[1m1s\u001b[0m 7ms/step - accuracy: 0.3322 - loss: 1.7852 - val_accuracy: 0.4300 - val_loss: 1.6073\n",
      "Epoch 4/50\n",
      "\u001b[1m75/75\u001b[0m \u001b[32m━━━━━━━━━━━━━━━━━━━━\u001b[0m\u001b[37m\u001b[0m \u001b[1m1s\u001b[0m 7ms/step - accuracy: 0.4801 - loss: 1.4854 - val_accuracy: 0.5717 - val_loss: 1.3721\n",
      "Epoch 5/50\n",
      "\u001b[1m75/75\u001b[0m \u001b[32m━━━━━━━━━━━━━━━━━━━━\u001b[0m\u001b[37m\u001b[0m \u001b[1m1s\u001b[0m 7ms/step - accuracy: 0.5947 - loss: 1.2399 - val_accuracy: 0.6767 - val_loss: 1.0370\n",
      "Epoch 6/50\n",
      "\u001b[1m75/75\u001b[0m \u001b[32m━━━━━━━━━━━━━━━━━━━━\u001b[0m\u001b[37m\u001b[0m \u001b[1m1s\u001b[0m 7ms/step - accuracy: 0.6893 - loss: 0.9972 - val_accuracy: 0.7600 - val_loss: 0.8294\n",
      "Epoch 7/50\n",
      "\u001b[1m75/75\u001b[0m \u001b[32m━━━━━━━━━━━━━━━━━━━━\u001b[0m\u001b[37m\u001b[0m \u001b[1m1s\u001b[0m 7ms/step - accuracy: 0.7753 - loss: 0.7953 - val_accuracy: 0.7983 - val_loss: 0.7004\n",
      "Epoch 8/50\n",
      "\u001b[1m75/75\u001b[0m \u001b[32m━━━━━━━━━━━━━━━━━━━━\u001b[0m\u001b[37m\u001b[0m \u001b[1m1s\u001b[0m 7ms/step - accuracy: 0.8056 - loss: 0.6618 - val_accuracy: 0.8383 - val_loss: 0.5635\n",
      "Epoch 9/50\n",
      "\u001b[1m75/75\u001b[0m \u001b[32m━━━━━━━━━━━━━━━━━━━━\u001b[0m\u001b[37m\u001b[0m \u001b[1m1s\u001b[0m 8ms/step - accuracy: 0.8539 - loss: 0.5406 - val_accuracy: 0.8600 - val_loss: 0.5021\n",
      "Epoch 10/50\n",
      "\u001b[1m75/75\u001b[0m \u001b[32m━━━━━━━━━━━━━━━━━━━━\u001b[0m\u001b[37m\u001b[0m \u001b[1m1s\u001b[0m 7ms/step - accuracy: 0.8788 - loss: 0.4564 - val_accuracy: 0.8617 - val_loss: 0.4892\n",
      "Epoch 11/50\n",
      "\u001b[1m75/75\u001b[0m \u001b[32m━━━━━━━━━━━━━━━━━━━━\u001b[0m\u001b[37m\u001b[0m \u001b[1m1s\u001b[0m 8ms/step - accuracy: 0.8779 - loss: 0.4122 - val_accuracy: 0.8783 - val_loss: 0.4137\n",
      "Epoch 12/50\n",
      "\u001b[1m75/75\u001b[0m \u001b[32m━━━━━━━━━━━━━━━━━━━━\u001b[0m\u001b[37m\u001b[0m \u001b[1m1s\u001b[0m 8ms/step - accuracy: 0.8964 - loss: 0.3728 - val_accuracy: 0.8883 - val_loss: 0.3872\n",
      "Epoch 13/50\n",
      "\u001b[1m75/75\u001b[0m \u001b[32m━━━━━━━━━━━━━━━━━━━━\u001b[0m\u001b[37m\u001b[0m \u001b[1m1s\u001b[0m 8ms/step - accuracy: 0.9173 - loss: 0.3186 - val_accuracy: 0.8817 - val_loss: 0.3638\n",
      "Epoch 14/50\n",
      "\u001b[1m75/75\u001b[0m \u001b[32m━━━━━━━━━━━━━━━━━━━━\u001b[0m\u001b[37m\u001b[0m \u001b[1m1s\u001b[0m 8ms/step - accuracy: 0.9357 - loss: 0.2513 - val_accuracy: 0.9217 - val_loss: 0.3108\n",
      "Epoch 15/50\n",
      "\u001b[1m75/75\u001b[0m \u001b[32m━━━━━━━━━━━━━━━━━━━━\u001b[0m\u001b[37m\u001b[0m \u001b[1m1s\u001b[0m 8ms/step - accuracy: 0.9341 - loss: 0.2605 - val_accuracy: 0.8900 - val_loss: 0.3725\n",
      "Epoch 16/50\n",
      "\u001b[1m75/75\u001b[0m \u001b[32m━━━━━━━━━━━━━━━━━━━━\u001b[0m\u001b[37m\u001b[0m \u001b[1m1s\u001b[0m 8ms/step - accuracy: 0.9438 - loss: 0.2209 - val_accuracy: 0.8983 - val_loss: 0.2971\n",
      "Epoch 17/50\n",
      "\u001b[1m75/75\u001b[0m \u001b[32m━━━━━━━━━━━━━━━━━━━━\u001b[0m\u001b[37m\u001b[0m \u001b[1m1s\u001b[0m 8ms/step - accuracy: 0.9435 - loss: 0.1966 - val_accuracy: 0.9167 - val_loss: 0.2695\n",
      "Epoch 18/50\n",
      "\u001b[1m75/75\u001b[0m \u001b[32m━━━━━━━━━━━━━━━━━━━━\u001b[0m\u001b[37m\u001b[0m \u001b[1m1s\u001b[0m 8ms/step - accuracy: 0.9491 - loss: 0.2010 - val_accuracy: 0.9333 - val_loss: 0.2365\n",
      "Epoch 19/50\n",
      "\u001b[1m75/75\u001b[0m \u001b[32m━━━━━━━━━━━━━━━━━━━━\u001b[0m\u001b[37m\u001b[0m \u001b[1m1s\u001b[0m 8ms/step - accuracy: 0.9547 - loss: 0.1595 - val_accuracy: 0.9167 - val_loss: 0.2783\n",
      "Epoch 20/50\n",
      "\u001b[1m75/75\u001b[0m \u001b[32m━━━━━━━━━━━━━━━━━━━━\u001b[0m\u001b[37m\u001b[0m \u001b[1m1s\u001b[0m 8ms/step - accuracy: 0.9485 - loss: 0.1656 - val_accuracy: 0.9417 - val_loss: 0.2219\n",
      "Epoch 21/50\n",
      "\u001b[1m75/75\u001b[0m \u001b[32m━━━━━━━━━━━━━━━━━━━━\u001b[0m\u001b[37m\u001b[0m \u001b[1m1s\u001b[0m 8ms/step - accuracy: 0.9726 - loss: 0.1242 - val_accuracy: 0.9133 - val_loss: 0.2833\n",
      "Epoch 22/50\n",
      "\u001b[1m75/75\u001b[0m \u001b[32m━━━━━━━━━━━━━━━━━━━━\u001b[0m\u001b[37m\u001b[0m \u001b[1m1s\u001b[0m 8ms/step - accuracy: 0.9598 - loss: 0.1507 - val_accuracy: 0.9367 - val_loss: 0.2120\n",
      "Epoch 23/50\n",
      "\u001b[1m75/75\u001b[0m \u001b[32m━━━━━━━━━━━━━━━━━━━━\u001b[0m\u001b[37m\u001b[0m \u001b[1m1s\u001b[0m 8ms/step - accuracy: 0.9645 - loss: 0.1402 - val_accuracy: 0.9333 - val_loss: 0.2138\n",
      "Epoch 24/50\n",
      "\u001b[1m75/75\u001b[0m \u001b[32m━━━━━━━━━━━━━━━━━━━━\u001b[0m\u001b[37m\u001b[0m \u001b[1m1s\u001b[0m 8ms/step - accuracy: 0.9739 - loss: 0.1119 - val_accuracy: 0.9333 - val_loss: 0.1871\n",
      "Epoch 25/50\n",
      "\u001b[1m75/75\u001b[0m \u001b[32m━━━━━━━━━━━━━━━━━━━━\u001b[0m\u001b[37m\u001b[0m \u001b[1m1s\u001b[0m 8ms/step - accuracy: 0.9708 - loss: 0.1064 - val_accuracy: 0.9383 - val_loss: 0.2206\n",
      "Epoch 26/50\n",
      "\u001b[1m75/75\u001b[0m \u001b[32m━━━━━━━━━━━━━━━━━━━━\u001b[0m\u001b[37m\u001b[0m \u001b[1m1s\u001b[0m 8ms/step - accuracy: 0.9710 - loss: 0.1104 - val_accuracy: 0.9417 - val_loss: 0.1746\n",
      "Epoch 27/50\n",
      "\u001b[1m75/75\u001b[0m \u001b[32m━━━━━━━━━━━━━━━━━━━━\u001b[0m\u001b[37m\u001b[0m \u001b[1m1s\u001b[0m 8ms/step - accuracy: 0.9722 - loss: 0.1043 - val_accuracy: 0.9433 - val_loss: 0.1722\n",
      "Epoch 28/50\n",
      "\u001b[1m75/75\u001b[0m \u001b[32m━━━━━━━━━━━━━━━━━━━━\u001b[0m\u001b[37m\u001b[0m \u001b[1m1s\u001b[0m 8ms/step - accuracy: 0.9829 - loss: 0.0783 - val_accuracy: 0.9433 - val_loss: 0.1859\n",
      "Epoch 29/50\n",
      "\u001b[1m75/75\u001b[0m \u001b[32m━━━━━━━━━━━━━━━━━━━━\u001b[0m\u001b[37m\u001b[0m \u001b[1m1s\u001b[0m 8ms/step - accuracy: 0.9773 - loss: 0.0880 - val_accuracy: 0.9333 - val_loss: 0.1962\n",
      "Epoch 30/50\n",
      "\u001b[1m75/75\u001b[0m \u001b[32m━━━━━━━━━━━━━━━━━━━━\u001b[0m\u001b[37m\u001b[0m \u001b[1m1s\u001b[0m 8ms/step - accuracy: 0.9742 - loss: 0.0905 - val_accuracy: 0.9317 - val_loss: 0.2042\n",
      "Epoch 31/50\n",
      "\u001b[1m75/75\u001b[0m \u001b[32m━━━━━━━━━━━━━━━━━━━━\u001b[0m\u001b[37m\u001b[0m \u001b[1m1s\u001b[0m 8ms/step - accuracy: 0.9856 - loss: 0.0696 - val_accuracy: 0.9500 - val_loss: 0.1631\n",
      "Epoch 32/50\n",
      "\u001b[1m75/75\u001b[0m \u001b[32m━━━━━━━━━━━━━━━━━━━━\u001b[0m\u001b[37m\u001b[0m \u001b[1m1s\u001b[0m 8ms/step - accuracy: 0.9852 - loss: 0.0712 - val_accuracy: 0.9450 - val_loss: 0.1720\n",
      "Epoch 33/50\n",
      "\u001b[1m75/75\u001b[0m \u001b[32m━━━━━━━━━━━━━━━━━━━━\u001b[0m\u001b[37m\u001b[0m \u001b[1m1s\u001b[0m 8ms/step - accuracy: 0.9798 - loss: 0.0790 - val_accuracy: 0.9450 - val_loss: 0.1537\n",
      "Epoch 34/50\n",
      "\u001b[1m75/75\u001b[0m \u001b[32m━━━━━━━━━━━━━━━━━━━━\u001b[0m\u001b[37m\u001b[0m \u001b[1m1s\u001b[0m 8ms/step - accuracy: 0.9887 - loss: 0.0543 - val_accuracy: 0.9417 - val_loss: 0.1695\n",
      "Epoch 35/50\n",
      "\u001b[1m75/75\u001b[0m \u001b[32m━━━━━━━━━━━━━━━━━━━━\u001b[0m\u001b[37m\u001b[0m \u001b[1m1s\u001b[0m 8ms/step - accuracy: 0.9899 - loss: 0.0544 - val_accuracy: 0.9267 - val_loss: 0.1921\n",
      "Epoch 36/50\n",
      "\u001b[1m75/75\u001b[0m \u001b[32m━━━━━━━━━━━━━━━━━━━━\u001b[0m\u001b[37m\u001b[0m \u001b[1m1s\u001b[0m 8ms/step - accuracy: 0.9881 - loss: 0.0582 - val_accuracy: 0.9450 - val_loss: 0.1448\n",
      "Epoch 37/50\n",
      "\u001b[1m75/75\u001b[0m \u001b[32m━━━━━━━━━━━━━━━━━━━━\u001b[0m\u001b[37m\u001b[0m \u001b[1m1s\u001b[0m 8ms/step - accuracy: 0.9862 - loss: 0.0588 - val_accuracy: 0.9483 - val_loss: 0.1590\n",
      "Epoch 38/50\n",
      "\u001b[1m75/75\u001b[0m \u001b[32m━━━━━━━━━━━━━━━━━━━━\u001b[0m\u001b[37m\u001b[0m \u001b[1m1s\u001b[0m 8ms/step - accuracy: 0.9915 - loss: 0.0452 - val_accuracy: 0.9517 - val_loss: 0.1443\n",
      "Epoch 39/50\n",
      "\u001b[1m75/75\u001b[0m \u001b[32m━━━━━━━━━━━━━━━━━━━━\u001b[0m\u001b[37m\u001b[0m \u001b[1m1s\u001b[0m 8ms/step - accuracy: 0.9915 - loss: 0.0474 - val_accuracy: 0.9333 - val_loss: 0.1948\n",
      "Epoch 40/50\n",
      "\u001b[1m75/75\u001b[0m \u001b[32m━━━━━━━━━━━━━━━━━━━━\u001b[0m\u001b[37m\u001b[0m \u001b[1m1s\u001b[0m 8ms/step - accuracy: 0.9865 - loss: 0.0494 - val_accuracy: 0.9483 - val_loss: 0.1979\n",
      "Epoch 41/50\n",
      "\u001b[1m75/75\u001b[0m \u001b[32m━━━━━━━━━━━━━━━━━━━━\u001b[0m\u001b[37m\u001b[0m \u001b[1m1s\u001b[0m 8ms/step - accuracy: 0.9865 - loss: 0.0516 - val_accuracy: 0.9417 - val_loss: 0.1983\n",
      "Epoch 42/50\n",
      "\u001b[1m75/75\u001b[0m \u001b[32m━━━━━━━━━━━━━━━━━━━━\u001b[0m\u001b[37m\u001b[0m \u001b[1m1s\u001b[0m 8ms/step - accuracy: 0.9894 - loss: 0.0529 - val_accuracy: 0.9517 - val_loss: 0.1418\n",
      "Epoch 43/50\n",
      "\u001b[1m75/75\u001b[0m \u001b[32m━━━━━━━━━━━━━━━━━━━━\u001b[0m\u001b[37m\u001b[0m \u001b[1m1s\u001b[0m 8ms/step - accuracy: 0.9906 - loss: 0.0431 - val_accuracy: 0.9567 - val_loss: 0.1473\n",
      "Epoch 44/50\n",
      "\u001b[1m75/75\u001b[0m \u001b[32m━━━━━━━━━━━━━━━━━━━━\u001b[0m\u001b[37m\u001b[0m \u001b[1m1s\u001b[0m 8ms/step - accuracy: 0.9940 - loss: 0.0306 - val_accuracy: 0.9567 - val_loss: 0.1346\n",
      "Epoch 45/50\n",
      "\u001b[1m75/75\u001b[0m \u001b[32m━━━━━━━━━━━━━━━━━━━━\u001b[0m\u001b[37m\u001b[0m \u001b[1m1s\u001b[0m 8ms/step - accuracy: 0.9966 - loss: 0.0267 - val_accuracy: 0.9517 - val_loss: 0.1343\n",
      "Epoch 46/50\n",
      "\u001b[1m75/75\u001b[0m \u001b[32m━━━━━━━━━━━━━━━━━━━━\u001b[0m\u001b[37m\u001b[0m \u001b[1m1s\u001b[0m 8ms/step - accuracy: 0.9980 - loss: 0.0282 - val_accuracy: 0.9483 - val_loss: 0.1437\n",
      "Epoch 47/50\n",
      "\u001b[1m75/75\u001b[0m \u001b[32m━━━━━━━━━━━━━━━━━━━━\u001b[0m\u001b[37m\u001b[0m \u001b[1m1s\u001b[0m 8ms/step - accuracy: 0.9969 - loss: 0.0261 - val_accuracy: 0.9500 - val_loss: 0.1379\n",
      "Epoch 48/50\n",
      "\u001b[1m75/75\u001b[0m \u001b[32m━━━━━━━━━━━━━━━━━━━━\u001b[0m\u001b[37m\u001b[0m \u001b[1m1s\u001b[0m 8ms/step - accuracy: 0.9961 - loss: 0.0253 - val_accuracy: 0.9467 - val_loss: 0.1574\n",
      "Epoch 49/50\n",
      "\u001b[1m75/75\u001b[0m \u001b[32m━━━━━━━━━━━━━━━━━━━━\u001b[0m\u001b[37m\u001b[0m \u001b[1m1s\u001b[0m 8ms/step - accuracy: 0.9945 - loss: 0.0306 - val_accuracy: 0.9533 - val_loss: 0.1272\n",
      "Epoch 50/50\n",
      "\u001b[1m75/75\u001b[0m \u001b[32m━━━━━━━━━━━━━━━━━━━━\u001b[0m\u001b[37m\u001b[0m \u001b[1m1s\u001b[0m 8ms/step - accuracy: 0.9973 - loss: 0.0249 - val_accuracy: 0.9517 - val_loss: 0.1543\n"
     ]
    },
    {
     "data": {
      "text/plain": [
       "<keras.src.callbacks.history.History at 0x16a573b30>"
      ]
     },
     "execution_count": 27,
     "metadata": {},
     "output_type": "execute_result"
    }
   ],
   "source": [
    "model.fit(X_train, y_train, validation_data=(X_test, y_test), epochs=50)"
   ]
  },
  {
   "cell_type": "code",
   "execution_count": 20,
   "id": "4163a29f-7772-4d51-81f0-3ccd457f317b",
   "metadata": {},
   "outputs": [
    {
     "data": {
      "text/plain": [
       "[<matplotlib.lines.Line2D at 0x309bf7860>]"
      ]
     },
     "execution_count": 20,
     "metadata": {},
     "output_type": "execute_result"
    },
    {
     "data": {
      "image/png": "[encoded data removed]",
      "text/plain": [
       "<Figure size 640x480 with 1 Axes>"
      ]
     },
     "metadata": {},
     "output_type": "display_data"
    }
   ],
   "source": [
    "plt.plot(model.history.history['loss'])\n",
    "plt.plot(model.history.history['val_loss'])"
   ]
  },
  {
   "cell_type": "code",
   "execution_count": 21,
   "id": "06287dcb-79c9-4ffc-8493-18b8840cc0f1",
   "metadata": {},
   "outputs": [
    {
     "data": {
      "text/plain": [
       "[<matplotlib.lines.Line2D at 0x304480b90>]"
      ]
     },
     "execution_count": 21,
     "metadata": {},
     "output_type": "execute_result"
    },
    {
     "data": {
      "image/png": "[encoded data removed]",
      "text/plain": [
       "<Figure size 640x480 with 1 Axes>"
      ]
     },
     "metadata": {},
     "output_type": "display_data"
    }
   ],
   "source": [
    "plt.plot(model.history.history['accuracy'])\n",
    "plt.plot(model.history.history['val_accuracy'])"
   ]
  },
  {
   "cell_type": "code",
   "execution_count": 28,
   "id": "05b11582-0957-46d7-83b7-cfee175464de",
   "metadata": {},
   "outputs": [
    {
     "name": "stderr",
     "output_type": "stream",
     "text": [
      "WARNING:absl:You are saving your model as an HDF5 file via `model.save()` or `keras.saving.save_model(model)`. This file format is considered legacy. We recommend using instead the native Keras format, e.g. `model.save('my_model.keras')` or `keras.saving.save_model(model, 'my_model.keras')`. \n"
     ]
    }
   ],
   "source": [
    "model.save('number_recognizer.h5')"
   ]
  },
  {
   "cell_type": "code",
   "execution_count": null,
   "id": "2dd05a5a-7592-44e1-af59-cc8729e6d1e6",
   "metadata": {},
   "outputs": [],
   "source": []
  }
 ],
 "metadata": {
  "kernelspec": {
   "display_name": "Python 3 (ipykernel)",
   "language": "python",
   "name": "python3"
  },
  "language_info": {
   "codemirror_mode": {
    "name": "ipython",
    "version": 3
   },
   "file_extension": ".py",
   "mimetype": "text/x-python",
   "name": "python",
   "nbconvert_exporter": "python",
   "pygments_lexer": "ipython3",
   "version": "3.12.4"
  },
  "widgets": {
   "application/vnd.jupyter.widget-state+json": {
    "state": {},
    "version_major": 2,
    "version_minor": 0
   }
  }
 },
 "nbformat": 4,
 "nbformat_minor": 5
}
